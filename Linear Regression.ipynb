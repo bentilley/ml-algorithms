{
 "cells": [
  {
   "cell_type": "markdown",
   "metadata": {},
   "source": [
    "# Linear Regression - Gradient Descent\n",
    "\n",
    "This notebook shows an implementation of how to solve a linear regression model using the *gradient descent* algorithm.\n",
    "\n",
    "### Data Set\n",
    "\n",
    "The dataset that we will be working with is a 2 variable dataset showing the relationship between the number of years experience that each participant has at their job, and their current salary (one would indeed hope that there was a positive linear relationship there)."
   ]
  },
  {
   "cell_type": "code",
   "execution_count": 13,
   "metadata": {},
   "outputs": [
    {
     "name": "stdout",
     "output_type": "stream",
     "text": [
      "   YearsExperience   Salary\n",
      "0              1.1  39343.0\n",
      "1              1.3  46205.0\n",
      "2              1.5  37731.0\n",
      "3              2.0  43525.0\n",
      "4              2.2  39891.0\n"
     ]
    }
   ],
   "source": [
    "import pandas as pd\n",
    "import numpy as np\n",
    "import matplotlib.pyplot as plt\n",
    "\n",
    "dataset = pd.read_csv(\"./data/salary-data.csv\")\n",
    "\n",
    "print(dataset.iloc[:5, :]) # first 5 rows\n",
    "\n",
    "X = dataset.iloc[:, :-1].values # get the data as a numpy array\n",
    "y = dataset.iloc[:, -1:].values"
   ]
  },
  {
   "cell_type": "markdown",
   "metadata": {},
   "source": [
    "### The Hypothesis\n",
    "\n",
    "For a linear regression model, we are assuming that the hypothesis (the shape of our model), will be of the form $h_\\theta(x) = \\theta_0 + \\theta_1 x$."
   ]
  },
  {
   "cell_type": "code",
   "execution_count": 2,
   "metadata": {},
   "outputs": [],
   "source": [
    "def get_hypothesis(theta):\n",
    "    \n",
    "    def hypothesis(X):\n",
    "        theta_0, theta_1 = theta\n",
    "        return theta_0 + (theta_1 * X)\n",
    "    \n",
    "    return hypothesis\n",
    "        \n",
    "# sanity check tests\n",
    "test_h = get_hypothesis((1,1))\n",
    "assert test_h(1) == 2\n",
    "test_h = get_hypothesis((1,2))\n",
    "assert test_h(2) == 5\n",
    "test_h = get_hypothesis((10,12))\n",
    "assert test_h(3) == 46"
   ]
  },
  {
   "cell_type": "markdown",
   "metadata": {},
   "source": [
    "### The Cost Function\n",
    "\n",
    "The basic cost function used for linear regression is the *mean squared error* function, $J(\\theta) = \\frac{1}{2m} \\sum_{i=1}^m ( h_\\theta(x^{(i)}) - y^{(i)} )^2$. i.e. the average of the squared distance from the predicted value to the actual value. (The notation $x^{(i)}$ is used to denote the $i^{th}$ data point.)"
   ]
  },
  {
   "cell_type": "code",
   "execution_count": 4,
   "metadata": {},
   "outputs": [],
   "source": [
    "def get_mean_squared_error(theta):\n",
    "    \n",
    "    def mean_squared_error(X, y):\n",
    "        h = get_hypothesis(theta)\n",
    "        return (1 / (2 * X.size)) * np.sum((h(X) - y)**2)\n",
    "    \n",
    "    return mean_squared_error\n",
    "    \n",
    "mse = get_mean_squared_error((0,1))\n",
    "assert mse(np.array([1,2,3]), np.array([2,3,4])) == 0.5\n",
    "mse = get_mean_squared_error((1,4))\n",
    "assert mse(np.array([1,2,3]), np.array([2,3,4])) == 21\n",
    "    "
   ]
  },
  {
   "cell_type": "markdown",
   "metadata": {},
   "source": [
    "### Gradient Descent\n",
    "\n",
    "To implement the gradient descent algorithm we need to calculate the partial differentials of the *cost function*, with respect to each of the $\\theta_i$. For the *mean squared error* function,\n",
    "\n",
    "$$\n",
    "J(\\theta) = \\frac{1}{2m} \\sum_{i=1}^m ( \\theta_0 + \\theta_1 x^{(i)} - y^{(i)} )^2\n",
    "$$\n",
    "\n",
    "this gives us:\n",
    "\n",
    "$$\\begin{align}\n",
    "\\frac{\\partial J}{\\partial \\theta_0} &= \\frac{1}{m} \\sum_{i=1}^m ( \\theta_0 + \\theta_1 x^{(i)} - y^{(i)} ) \\\\\n",
    "\\frac{\\partial J}{\\partial \\theta_1} &= \\frac{1}{m} \\sum_{i=1}^m x^{(i)} ( \\theta_0 + \\theta_1 x^{(i)} - y^{(i)} ) \\\\.\n",
    "\\end{align}$$\n",
    "\n",
    "Using these results we can then perform the incremental updates of\n",
    "\n",
    "$$\n",
    "\\theta_{j, t+1} = \\theta_{j, t} - \\alpha \\frac{\\partial J}{\\partial \\theta_j}.\n",
    "$$"
   ]
  },
  {
   "cell_type": "code",
   "execution_count": 56,
   "metadata": {},
   "outputs": [],
   "source": [
    "def get_theta_0_partial(X, y):\n",
    "    \n",
    "    def partial(theta):\n",
    "        theta_0, theta_1 = theta\n",
    "        return (1 / len(X)) * np.sum(theta_0 + theta_1 * X - y)\n",
    "    \n",
    "    return partial\n",
    "\n",
    "def get_theta_1_partial(X, y):\n",
    "    \n",
    "    def partial(theta):\n",
    "        theta_0, theta_1 = theta\n",
    "        return (1 / len(X)) * np.sum(X * (theta_0 + theta_1 * X - y))\n",
    "    \n",
    "    return partial\n",
    "\n",
    "def get_step_gradient_descent(X, y, alpha):\n",
    "    \n",
    "    partial_theta_0 = get_theta_0_partial(X, y)\n",
    "    partial_theta_1 = get_theta_1_partial(X, y)\n",
    "    \n",
    "    def step_gradient_descent(theta):\n",
    "        theta_0, theta_1 = theta\n",
    "        theta_0_next = theta_0 - alpha * partial_theta_0(theta)\n",
    "        theta_1_next = theta_1 - alpha * partial_theta_1(theta)\n",
    "        return (theta_0_next, theta_1_next)\n",
    "    \n",
    "    return step_gradient_descent"
   ]
  },
  {
   "cell_type": "code",
   "execution_count": 65,
   "metadata": {},
   "outputs": [],
   "source": [
    "def fit_linear_regression_model(X, y, theta=(0,1), alpha=0.01):\n",
    "    step_gradient_descent = get_step_gradient_descent(X, y, alpha)\n",
    "    step = 0\n",
    "    error_change_threshold = 0.1\n",
    "    mse = get_mean_squared_error(theta)\n",
    "    error = mse(X, y)\n",
    "    error_change = error\n",
    "    #print(f\"step {step}: theta = {theta}, mse = {error}, error change = {error_change}\")\n",
    "    while abs(error_change) > error_change_threshold:\n",
    "        step += 1\n",
    "        theta = step_gradient_descent(theta)\n",
    "        mse = get_mean_squared_error(theta)\n",
    "        new_error = mse(X, y)\n",
    "        error_change = error - new_error\n",
    "        error = new_error\n",
    "        #print(f\"step {step}: theta = {theta}, mse = {round(error)}, error change = {round(error_change)}\")\n",
    "    print(f\"returning after {step} steps...\")\n",
    "    print(f\"theta = {theta}\")\n",
    "    return theta\n",
    "        "
   ]
  },
  {
   "cell_type": "code",
   "execution_count": 66,
   "metadata": {},
   "outputs": [
    {
     "name": "stdout",
     "output_type": "stream",
     "text": [
      "returning after 3490 steps...\n",
      "theta = (25777.466234939147, 9452.148779987654)\n"
     ]
    }
   ],
   "source": [
    "theta = fit_linear_regression_model(X, y, theta=(0,1), alpha=0.01)\n",
    "\n",
    "h = get_hypothesis(theta)\n",
    "\n",
    "y_prime = h(X)"
   ]
  },
  {
   "cell_type": "code",
   "execution_count": 67,
   "metadata": {},
   "outputs": [
    {
     "name": "stdout",
     "output_type": "stream",
     "text": [
      "returning after 1 steps...\n",
      "theta = (0.0, 1.0)\n",
      "returning after 12068 steps...\n",
      "theta = (25763.389901736366, 9454.237648903281)\n",
      "returning after 6344 steps...\n",
      "theta = (25771.84062043273, 9452.983597628332)\n",
      "returning after 4350 steps...\n",
      "theta = (25775.59178085561, 9452.426941126103)\n",
      "returning after 3326 steps...\n",
      "theta = (25777.813009286136, 9452.097320126359)\n",
      "returning after 2701 steps...\n",
      "theta = (25779.364511705426, 9451.86708366282)\n",
      "returning after 2277 steps...\n",
      "theta = (25780.46503697841, 9451.703770319746)\n",
      "returning after 1971 steps...\n",
      "theta = (25781.33929571791, 9451.574033982957)\n",
      "returning after 1740 steps...\n",
      "theta = (25782.081346206574, 9451.46391679709)\n",
      "returning after 1558 steps...\n",
      "theta = (25782.66194936734, 9451.377757718774)\n",
      "returning after 1411 steps...\n",
      "theta = (25783.139004240023, 9451.306964772893)\n",
      "returning after 1290 steps...\n",
      "theta = (25783.55391460853, 9451.245393811263)\n",
      "returning after 1189 steps...\n",
      "theta = (25783.940825438895, 9451.187977863869)\n",
      "returning after 1103 steps...\n",
      "theta = (25784.279714220906, 9451.137688187402)\n",
      "returning after 1029 steps...\n",
      "theta = (25784.587882876865, 9451.091957249031)\n",
      "returning after 964 steps...\n",
      "theta = (25784.830870483416, 9451.055898905506)\n",
      "returning after 907 steps...\n",
      "theta = (25785.058252485986, 9451.022156368275)\n",
      "returning after 857 steps...\n",
      "theta = (25785.2980717327, 9450.986568196085)\n",
      "returning after 812 steps...\n",
      "theta = (25785.492547746428, 9450.957708769836)\n",
      "returning after 772 steps...\n",
      "theta = (25785.69986515565, 9450.92694373426)\n"
     ]
    }
   ],
   "source": [
    "for a in np.linspace(0, 0.05, 20):\n",
    "    fit_linear_regression_model(X, y, theta=(0,1), alpha=a)"
   ]
  },
  {
   "cell_type": "code",
   "execution_count": 68,
   "metadata": {},
   "outputs": [
    {
     "data": {
      "image/png": "[encoded data removed]",
      "text/plain": [
       "<Figure size 432x288 with 1 Axes>"
      ]
     },
     "metadata": {
      "needs_background": "light"
     },
     "output_type": "display_data"
    }
   ],
   "source": [
    "%matplotlib inline\n",
    "\n",
    "fig = plt.figure()\n",
    "ax = fig.subplots()\n",
    "ax.scatter(X, y)\n",
    "ax.plot(X, y_prime)\n",
    "plt.show()"
   ]
  }
 ],
 "metadata": {
  "kernelspec": {
   "display_name": "Python 3",
   "language": "python",
   "name": "python3"
  },
  "language_info": {
   "codemirror_mode": {
    "name": "ipython",
    "version": 3
   },
   "file_extension": ".py",
   "mimetype": "text/x-python",
   "name": "python",
   "nbconvert_exporter": "python",
   "pygments_lexer": "ipython3",
   "version": "3.7.6"
  }
 },
 "nbformat": 4,
 "nbformat_minor": 4
}
