{
 "cells": [
  {
   "cell_type": "markdown",
   "metadata": {},
   "source": [
    "# Decision Tree ID3\n",
    "\n",
    "A *decision tree* is an acyclic graph that can be used to make descisions about data points. Each branching node of the graph examines a specific feature of the data point. According to some threshold the data point is classified and directed down a speicific branch of the tree.\n",
    "\n",
    "## The Dataset\n",
    "\n",
    "The dataset that we will use to develop this algorithm is the balanced scale dataset, found [here](http://archive.ics.uci.edu/ml/datasets/Balance+Scale). The dataset concerns the weights on two sides of a set of balance scales - the weight on each side, and the distance the weight is from the pivot. Each point then is classified as either B (for balanced), or L (for left side heavier), or R (for right side heavier).\n",
    "\n",
    "The structure of each data point is:\n",
    "\n",
    "  1. Class - either B, R, or L;\n",
    "  2. Left-weight - the weight on the left side of the balance;\n",
    "  3. Left-distance - the distance of the left weight from the pivot;\n",
    "  4. Right-weight - the weight on the right side of the balance;\n",
    "  5. Right-distance - the distance of the right weight from the pivot.\n",
    "    \n",
    "Whether or not the scale is balanced can be calculated using moments - if (right-weight * right-distance) == (left-weight * left-distance), then the scale is balanced. The goal is will be to create a decision tree that can determine whether or not the scale is balanced.\n",
    "\n",
    "There are 625 instances - (49 balanced, 288 left, 288 right)."
   ]
  },
  {
   "cell_type": "code",
   "execution_count": 1,
   "metadata": {},
   "outputs": [
    {
     "data": {
      "text/html": [
       "<div>\n",
       "<style scoped>\n",
       "    .dataframe tbody tr th:only-of-type {\n",
       "        vertical-align: middle;\n",
       "    }\n",
       "\n",
       "    .dataframe tbody tr th {\n",
       "        vertical-align: top;\n",
       "    }\n",
       "\n",
       "    .dataframe thead th {\n",
       "        text-align: right;\n",
       "    }\n",
       "</style>\n",
       "<table border=\"1\" class=\"dataframe\">\n",
       "  <thead>\n",
       "    <tr style=\"text-align: right;\">\n",
       "      <th></th>\n",
       "      <th>Class</th>\n",
       "      <th>Left-weight</th>\n",
       "      <th>Left-distance</th>\n",
       "      <th>Right-weight</th>\n",
       "      <th>Right-distance</th>\n",
       "    </tr>\n",
       "  </thead>\n",
       "  <tbody>\n",
       "    <tr>\n",
       "      <th>0</th>\n",
       "      <td>B</td>\n",
       "      <td>1</td>\n",
       "      <td>1</td>\n",
       "      <td>1</td>\n",
       "      <td>1</td>\n",
       "    </tr>\n",
       "    <tr>\n",
       "      <th>1</th>\n",
       "      <td>R</td>\n",
       "      <td>1</td>\n",
       "      <td>1</td>\n",
       "      <td>1</td>\n",
       "      <td>2</td>\n",
       "    </tr>\n",
       "    <tr>\n",
       "      <th>2</th>\n",
       "      <td>R</td>\n",
       "      <td>1</td>\n",
       "      <td>1</td>\n",
       "      <td>1</td>\n",
       "      <td>3</td>\n",
       "    </tr>\n",
       "    <tr>\n",
       "      <th>3</th>\n",
       "      <td>R</td>\n",
       "      <td>1</td>\n",
       "      <td>1</td>\n",
       "      <td>1</td>\n",
       "      <td>4</td>\n",
       "    </tr>\n",
       "    <tr>\n",
       "      <th>4</th>\n",
       "      <td>R</td>\n",
       "      <td>1</td>\n",
       "      <td>1</td>\n",
       "      <td>1</td>\n",
       "      <td>5</td>\n",
       "    </tr>\n",
       "  </tbody>\n",
       "</table>\n",
       "</div>"
      ],
      "text/plain": [
       "  Class  Left-weight  Left-distance  Right-weight  Right-distance\n",
       "0     B            1              1             1               1\n",
       "1     R            1              1             1               2\n",
       "2     R            1              1             1               3\n",
       "3     R            1              1             1               4\n",
       "4     R            1              1             1               5"
      ]
     },
     "execution_count": 1,
     "metadata": {},
     "output_type": "execute_result"
    }
   ],
   "source": [
    "import pandas as pd\n",
    "\n",
    "data = pd.read_csv(\"data/balance-scale.csv\")\n",
    "\n",
    "data.head(5) # let's have a look at the data"
   ]
  },
  {
   "cell_type": "markdown",
   "metadata": {},
   "source": [
    "# The Algorithm\n",
    "\n",
    "The aim is to create a binary decision tree from the dataset. This will be a binary tree, that at each node \"splits\" the data into two sets.\n",
    "\n",
    "Optimising a cost function across all possible trees that we could construct is computationally unfeasible, so we will opt for a local approach - looking for the best possible way to \"split\" the data into to groups at each stage of the algorithm.\n",
    "\n",
    "In order to do this we need a measure for what a \"good\" split is. For the categorical data that we are using, intuitively we would think that a \"good\" split is one in which the groups that the data is divided into contain mostly similar values (i.e. all the `balanced` data points end up in one group, and all the `right` and `left` leaning data points end up in the other group for example. We can achieve this using a measure of impurity called the Gini Index.\n",
    "\n",
    "For a colection of data points $m$, with categories $k \\in K$, let $p_{k,m}$ be the proportion of data points in $m$ that are category $k$. The the Gini index is calculated as follows:\n",
    "$$\\sum_{k} p_{m,k} (1 - p_{m,k})$$"
   ]
  },
  {
   "cell_type": "code",
   "execution_count": 33,
   "metadata": {},
   "outputs": [
    {
     "data": {
      "text/plain": [
       "0.5691801599999999"
      ]
     },
     "execution_count": 33,
     "metadata": {},
     "output_type": "execute_result"
    }
   ],
   "source": [
    "def calculate_gini_index(sample, category):\n",
    "    value_counts = sample[category].value_counts()\n",
    "    total = value_counts.sum()\n",
    "    return sum([gini_score(count, total) for count in value_counts])\n",
    "        \n",
    "def gini_score(count, total):\n",
    "    proportion = count / total\n",
    "    return proportion * (1 - proportion)\n",
    "\n",
    "calculate_gini_index(data, \"Class\") # the Gini Index of the whole dataset (pretty impure!)"
   ]
  },
  {
   "cell_type": "markdown",
   "metadata": {},
   "source": [
    "So now all we need to do is find the binary split with the lowest Gini Index. Then we can split the data and then separately consider the two sets that we are left with. Then we can repeat the process for each of them - finding the split with the lowest Gini Index and then dividing the data."
   ]
  },
  {
   "cell_type": "code",
   "execution_count": 41,
   "metadata": {},
   "outputs": [
    {
     "data": {
      "text/plain": [
       "('Left-weight', 1.5, 0.4581)"
      ]
     },
     "execution_count": 41,
     "metadata": {},
     "output_type": "execute_result"
    }
   ],
   "source": [
    "def get_best_split(sample, category):\n",
    "    features = sample.columns.values[1:]\n",
    "    best_gini_index = 1\n",
    "    best_split = ()\n",
    "    for variable in features:\n",
    "        p = sample[variable].unique()\n",
    "        split_options = [(p[i + 1] + p[i]) / 2 for i in range(len(p) - 1)]\n",
    "        for split in split_options:\n",
    "            gini = calculate_gini_index_of_split(sample, variable, split, category)\n",
    "            if gini < best_gini_index:\n",
    "                best_gini_index = gini\n",
    "                best_split = (variable, split)\n",
    "    return best_split + (best_gini_index,)\n",
    "            \n",
    "def calculate_gini_index_of_split(sample, variable, split, category):\n",
    "    split1 = sample[variable] <= split\n",
    "    split2 = sample[variable] > split\n",
    "    gini_split1 = calculate_gini_index(sample[split1], category)\n",
    "    gini_split2 = calculate_gini_index(sample[split2], category)\n",
    "    n1 = len(split1)\n",
    "    n2 = len(split2)\n",
    "    N = n1 + n2\n",
    "    return (gini_split1 * (n1 / N)) + (gini_split2 * (n2 / N))\n",
    "            \n",
    "get_best_split(data, \"Class\")"
   ]
  },
  {
   "cell_type": "markdown",
   "metadata": {},
   "source": [
    "## Building a Decision Tree\n",
    "\n",
    "Now we have a method for determining the best way to split a sample of the dataset, we need a way of arranging this into a binary tree."
   ]
  },
  {
   "cell_type": "code",
   "execution_count": 100,
   "metadata": {},
   "outputs": [
    {
     "name": "stdout",
     "output_type": "stream",
     "text": [
      "done!\n"
     ]
    }
   ],
   "source": [
    "class Tree:\n",
    "    def __init__(self, data, category):\n",
    "        self.category = category\n",
    "        self.num_nodes = 0\n",
    "        self.root = Node(self, data)\n",
    "        self.root.buildtree()\n",
    "        \n",
    "    def predict(self, datapoint):\n",
    "        return self.root.predict(datapoint)\n",
    "\n",
    "class Node:\n",
    "    def __init__(self, root, data):\n",
    "        self.root = root\n",
    "        self.root.num_nodes += 1\n",
    "        self.data = data\n",
    "        self.label = None\n",
    "        \n",
    "    def buildtree(self):\n",
    "        self.split_data(self.root.category)\n",
    "        \n",
    "    def split_data(self, category):\n",
    "        if len(self.data[category].unique()) > 1:\n",
    "            variable, split, split_gini = get_best_split(self.data, category)\n",
    "            self.condition = (variable, split)\n",
    "            if not split_gini < self.gini_index():\n",
    "                self.label = get_most_frequent(self.data, category)\n",
    "                return\n",
    "            else:\n",
    "                self.left = Node(self.root, self.data[self.data[variable] <= split])\n",
    "                self.right = Node(self.root, self.data[self.data[variable] > split])\n",
    "                self.left.split_data(self.root.category)\n",
    "                self.right.split_data(self.root.category)\n",
    "        else:\n",
    "            self.label = get_most_frequent(self.data, category)\n",
    "        \n",
    "    def gini_index(self):\n",
    "        return calculate_gini_index(self.data, self.root.category)\n",
    "    \n",
    "    def predict(self, datapoint):\n",
    "        if not self.label:\n",
    "            test = self.test(datapoint)\n",
    "            return getattr(self, test).predict(datapoint)\n",
    "        else:\n",
    "            return self.label\n",
    "        \n",
    "    def test(self, datapoint):\n",
    "        variable, split = self.condition\n",
    "        if datapoint[variable].at[0] <= split:\n",
    "            return \"left\"\n",
    "        else:\n",
    "            return \"right\"\n",
    "    \n",
    "def get_most_frequent(data, category):\n",
    "    return data[category].mode()[0]\n",
    "        \n",
    "tree = Tree(data, \"Class\")\n",
    "print(\"done!\")"
   ]
  },
  {
   "cell_type": "code",
   "execution_count": 101,
   "metadata": {},
   "outputs": [
    {
     "name": "stdout",
     "output_type": "stream",
     "text": [
      "The tree has 447 nodes\n"
     ]
    }
   ],
   "source": [
    "print(f\"The tree has {tree.num_nodes} nodes\")"
   ]
  },
  {
   "cell_type": "markdown",
   "metadata": {},
   "source": [
    "## Prediction\n",
    "\n",
    "Let's try predicting a value that "
   ]
  },
  {
   "cell_type": "code",
   "execution_count": 111,
   "metadata": {},
   "outputs": [
    {
     "data": {
      "text/html": [
       "<div>\n",
       "<style scoped>\n",
       "    .dataframe tbody tr th:only-of-type {\n",
       "        vertical-align: middle;\n",
       "    }\n",
       "\n",
       "    .dataframe tbody tr th {\n",
       "        vertical-align: top;\n",
       "    }\n",
       "\n",
       "    .dataframe thead th {\n",
       "        text-align: right;\n",
       "    }\n",
       "</style>\n",
       "<table border=\"1\" class=\"dataframe\">\n",
       "  <thead>\n",
       "    <tr style=\"text-align: right;\">\n",
       "      <th></th>\n",
       "      <th>Left-weight</th>\n",
       "      <th>Left-distance</th>\n",
       "      <th>Right-weight</th>\n",
       "      <th>Right-distance</th>\n",
       "    </tr>\n",
       "  </thead>\n",
       "  <tbody>\n",
       "    <tr>\n",
       "      <th>0</th>\n",
       "      <td>8</td>\n",
       "      <td>6</td>\n",
       "      <td>8</td>\n",
       "      <td>6</td>\n",
       "    </tr>\n",
       "  </tbody>\n",
       "</table>\n",
       "</div>"
      ],
      "text/plain": [
       "   Left-weight  Left-distance  Right-weight  Right-distance\n",
       "0            8              6             8               6"
      ]
     },
     "execution_count": 111,
     "metadata": {},
     "output_type": "execute_result"
    }
   ],
   "source": [
    "new_data = pd.DataFrame(data=[[8,6,8,6]], columns=['Left-weight', 'Left-distance', 'Right-weight', 'Right-distance'])\n",
    "new_data.head()"
   ]
  },
  {
   "cell_type": "code",
   "execution_count": 112,
   "metadata": {},
   "outputs": [
    {
     "data": {
      "text/plain": [
       "'B'"
      ]
     },
     "execution_count": 112,
     "metadata": {},
     "output_type": "execute_result"
    }
   ],
   "source": [
    "tree.predict(new_data)"
   ]
  },
  {
   "cell_type": "code",
   "execution_count": null,
   "metadata": {},
   "outputs": [],
   "source": []
  }
 ],
 "metadata": {
  "kernelspec": {
   "display_name": "Python 3",
   "language": "python",
   "name": "python3"
  },
  "language_info": {
   "codemirror_mode": {
    "name": "ipython",
    "version": 3
   },
   "file_extension": ".py",
   "mimetype": "text/x-python",
   "name": "python",
   "nbconvert_exporter": "python",
   "pygments_lexer": "ipython3",
   "version": "3.7.7"
  }
 },
 "nbformat": 4,
 "nbformat_minor": 4
}
